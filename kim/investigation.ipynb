{
 "cells": [
  {
   "cell_type": "code",
   "execution_count": 1,
   "metadata": {},
   "outputs": [],
   "source": [
    "import os\n",
    "import pandas as pd\n",
    "import numpy as np\n",
    "import matplotlib.pyplot as plt\n",
    "import datetime as dt\n",
    "from sklearn import linear_model as lm\n",
    "from sklearn.model_selection import cross_val_score as cvs\n",
    "from sklearn.model_selection import KFold\n",
    "plt.style.use('seaborn-poster')\n",
    "%matplotlib inline"
   ]
  },
  {
   "cell_type": "code",
   "execution_count": 12,
   "metadata": {},
   "outputs": [],
   "source": [
    "module_dir = os.path.realpath('.')\n",
    "\n",
    "pd.options.display.max_columns = 999\n",
    "pd.options.display.max_rows = 100"
   ]
  },
  {
   "cell_type": "markdown",
   "metadata": {},
   "source": [
    "### Investigating data for useful azimuth-filling features\n",
    "Notes:\n",
    "* Lat/long may be an insignificant feature, it is recommended that all solar panels point toward the equator; however, not all of the sites in NA point south for varying reasons\n",
    "* Tracing the azimuth back from the annual production (kWh) could be doable (see table here): https://www.civicsolar.com/support/installer/articles/calculating-your-optimal-azimuth-angle\n",
    "   * This would vary on how much power potential is expected of each case\n",
    "   * Standard test conditions (STC) rating (DC) is given on the PVDAQ metadata, could compare that to actual performance\n",
    "   \n",
    "* Tracing the correlation to the GHI (Ground Irradiance) could be an option\n",
    "   \n",
    "   \n",
    "#### Latitude\n",
    "\"In the northern hemisphere, between the latitudes of 23 and 90, the sun is always in the south. Therefore, the modules on an array are directed to the south in order to get the most out of the sun’s energy.\"\n",
    "\n",
    "#### Train Results on the POA Irradiance Calculation?"
   ]
  },
  {
   "cell_type": "code",
   "execution_count": 3,
   "metadata": {},
   "outputs": [],
   "source": [
    "file_name = 'pvdaq_data_1231_2006.csv'\n",
    "df = pd.read_csv(file_name)"
   ]
  },
  {
   "cell_type": "code",
   "execution_count": 10,
   "metadata": {},
   "outputs": [
    {
     "data": {
      "text/html": [
       "<div>\n",
       "<style scoped>\n",
       "    .dataframe tbody tr th:only-of-type {\n",
       "        vertical-align: middle;\n",
       "    }\n",
       "\n",
       "    .dataframe tbody tr th {\n",
       "        vertical-align: top;\n",
       "    }\n",
       "\n",
       "    .dataframe thead th {\n",
       "        text-align: right;\n",
       "    }\n",
       "</style>\n",
       "<table border=\"1\" class=\"dataframe\">\n",
       "  <thead>\n",
       "    <tr style=\"text-align: right;\">\n",
       "      <th></th>\n",
       "      <th>SiteID</th>\n",
       "      <th>Date-Time</th>\n",
       "      <th>ac_power</th>\n",
       "      <th>ambient_temp</th>\n",
       "      <th>gh_irradiance</th>\n",
       "      <th>poa_irradiance</th>\n",
       "    </tr>\n",
       "  </thead>\n",
       "  <tbody>\n",
       "    <tr>\n",
       "      <th>1210</th>\n",
       "      <td>1231</td>\n",
       "      <td>2006-01-13 14:30:00</td>\n",
       "      <td>880</td>\n",
       "      <td>25.444448</td>\n",
       "      <td>287.2</td>\n",
       "      <td>344.7</td>\n",
       "    </tr>\n",
       "    <tr>\n",
       "      <th>1211</th>\n",
       "      <td>1231</td>\n",
       "      <td>2006-01-13 14:45:00</td>\n",
       "      <td>440</td>\n",
       "      <td>25.500003</td>\n",
       "      <td>194.9</td>\n",
       "      <td>227.8</td>\n",
       "    </tr>\n",
       "    <tr>\n",
       "      <th>1212</th>\n",
       "      <td>1231</td>\n",
       "      <td>2006-01-13 15:00:00</td>\n",
       "      <td>120</td>\n",
       "      <td>25.333337</td>\n",
       "      <td>137.6</td>\n",
       "      <td>158.5</td>\n",
       "    </tr>\n",
       "    <tr>\n",
       "      <th>1213</th>\n",
       "      <td>1231</td>\n",
       "      <td>2006-01-13 15:15:00</td>\n",
       "      <td>160</td>\n",
       "      <td>25.000003</td>\n",
       "      <td>112.9</td>\n",
       "      <td>127.4</td>\n",
       "    </tr>\n",
       "    <tr>\n",
       "      <th>1214</th>\n",
       "      <td>1231</td>\n",
       "      <td>2006-01-13 15:30:00</td>\n",
       "      <td>120</td>\n",
       "      <td>24.666670</td>\n",
       "      <td>58.5</td>\n",
       "      <td>65.7</td>\n",
       "    </tr>\n",
       "    <tr>\n",
       "      <th>1215</th>\n",
       "      <td>1231</td>\n",
       "      <td>2006-01-13 15:45:00</td>\n",
       "      <td>120</td>\n",
       "      <td>24.444448</td>\n",
       "      <td>66.6</td>\n",
       "      <td>71.7</td>\n",
       "    </tr>\n",
       "    <tr>\n",
       "      <th>1216</th>\n",
       "      <td>1231</td>\n",
       "      <td>2006-01-13 16:00:00</td>\n",
       "      <td>0</td>\n",
       "      <td>22.166670</td>\n",
       "      <td>37.1</td>\n",
       "      <td>43.0</td>\n",
       "    </tr>\n",
       "    <tr>\n",
       "      <th>1217</th>\n",
       "      <td>1231</td>\n",
       "      <td>2006-01-13 16:15:00</td>\n",
       "      <td>0</td>\n",
       "      <td>20.516670</td>\n",
       "      <td>28.2</td>\n",
       "      <td>32.4</td>\n",
       "    </tr>\n",
       "    <tr>\n",
       "      <th>1218</th>\n",
       "      <td>1231</td>\n",
       "      <td>2006-01-13 16:30:00</td>\n",
       "      <td>0</td>\n",
       "      <td>20.600003</td>\n",
       "      <td>59.5</td>\n",
       "      <td>62.0</td>\n",
       "    </tr>\n",
       "    <tr>\n",
       "      <th>1219</th>\n",
       "      <td>1231</td>\n",
       "      <td>2006-01-13 16:45:00</td>\n",
       "      <td>40</td>\n",
       "      <td>20.450003</td>\n",
       "      <td>63.5</td>\n",
       "      <td>69.0</td>\n",
       "    </tr>\n",
       "    <tr>\n",
       "      <th>1220</th>\n",
       "      <td>1231</td>\n",
       "      <td>2006-01-13 17:00:00</td>\n",
       "      <td>40</td>\n",
       "      <td>21.333336</td>\n",
       "      <td>92.3</td>\n",
       "      <td>120.8</td>\n",
       "    </tr>\n",
       "  </tbody>\n",
       "</table>\n",
       "</div>"
      ],
      "text/plain": [
       "      SiteID            Date-Time  ac_power  ambient_temp  gh_irradiance  \\\n",
       "1210    1231  2006-01-13 14:30:00       880     25.444448          287.2   \n",
       "1211    1231  2006-01-13 14:45:00       440     25.500003          194.9   \n",
       "1212    1231  2006-01-13 15:00:00       120     25.333337          137.6   \n",
       "1213    1231  2006-01-13 15:15:00       160     25.000003          112.9   \n",
       "1214    1231  2006-01-13 15:30:00       120     24.666670           58.5   \n",
       "1215    1231  2006-01-13 15:45:00       120     24.444448           66.6   \n",
       "1216    1231  2006-01-13 16:00:00         0     22.166670           37.1   \n",
       "1217    1231  2006-01-13 16:15:00         0     20.516670           28.2   \n",
       "1218    1231  2006-01-13 16:30:00         0     20.600003           59.5   \n",
       "1219    1231  2006-01-13 16:45:00        40     20.450003           63.5   \n",
       "1220    1231  2006-01-13 17:00:00        40     21.333336           92.3   \n",
       "\n",
       "      poa_irradiance  \n",
       "1210           344.7  \n",
       "1211           227.8  \n",
       "1212           158.5  \n",
       "1213           127.4  \n",
       "1214            65.7  \n",
       "1215            71.7  \n",
       "1216            43.0  \n",
       "1217            32.4  \n",
       "1218            62.0  \n",
       "1219            69.0  \n",
       "1220           120.8  "
      ]
     },
     "execution_count": 10,
     "metadata": {},
     "output_type": "execute_result"
    }
   ],
   "source": [
    "df.loc[1210:1220]"
   ]
  },
  {
   "cell_type": "code",
   "execution_count": 22,
   "metadata": {},
   "outputs": [
    {
     "name": "stdout",
     "output_type": "stream",
     "text": [
      "(12, 19)\n"
     ]
    },
    {
     "data": {
      "text/plain": [
       "Index([u'measdatetime', u'array_capture_losses', u'array_energy_fraction',\n",
       "       u'array_yield', u'availability', u'bos_efficiency', u'bos_losses',\n",
       "       u'energy_from_array', u'energy_from_grid', u'energy_to_grid',\n",
       "       u'final_yield', u'load_efficiency', u'mean_array_efficiency',\n",
       "       u'poa_irradiation', u'reference_yield', u'system_id',\n",
       "       u'total_energy_input', u'total_energy_output',\n",
       "       u'total_system_efficiency'],\n",
       "      dtype='object')"
      ]
     },
     "execution_count": 22,
     "metadata": {},
     "output_type": "execute_result"
    }
   ],
   "source": [
    "file_name = 'pvdaq_system-1231_01-01-2006_12-31-2006.csv'\n",
    "aggdf = pd.read_csv(file_name)\n",
    "print(str(aggdf.shape))\n",
    "aggdf.columns\n",
    "# aggdf[['load_efficiency', 'mean_array_efficiency',\n",
    "#        'poa_irradiation', 'reference_yield', 'system_id',\n",
    "#        'total_energy_input', 'total_energy_output',\n",
    "#        'total_system_efficiency']]"
   ]
  },
  {
   "cell_type": "code",
   "execution_count": 23,
   "metadata": {},
   "outputs": [
    {
     "data": {
      "text/plain": [
       "0     128.71\n",
       "1        NaN\n",
       "2        NaN\n",
       "3        NaN\n",
       "4        NaN\n",
       "5        NaN\n",
       "6        NaN\n",
       "7        NaN\n",
       "8        NaN\n",
       "9        NaN\n",
       "10       NaN\n",
       "11       NaN\n",
       "Name: energy_to_grid, dtype: float64"
      ]
     },
     "execution_count": 23,
     "metadata": {},
     "output_type": "execute_result"
    }
   ],
   "source": [
    "aggdf['energy_to_grid']"
   ]
  },
  {
   "cell_type": "markdown",
   "metadata": {},
   "source": [
    "#### Inspecting data that is missing azimuth metadata on PVDAQ\n",
    "[1430] Raw and Aggregate"
   ]
  },
  {
   "cell_type": "code",
   "execution_count": 24,
   "metadata": {},
   "outputs": [],
   "source": [
    "file_name = 'pvdaq_data_1430_2016.csv'\n",
    "df = pd.read_csv(file_name)"
   ]
  },
  {
   "cell_type": "code",
   "execution_count": 33,
   "metadata": {},
   "outputs": [
    {
     "name": "stdout",
     "output_type": "stream",
     "text": [
      "Index([u'SiteID', u'Date-Time', u'PR', u'ac_power', u'ambient_temp',\n",
      "       u'dc_current', u'dc_power', u'dc_voltage', u'kWh_gross', u'kWh_net',\n",
      "       u'module_temp', u'poa_irradiance'],\n",
      "      dtype='object')\n"
     ]
    },
    {
     "data": {
      "text/html": [
       "<div>\n",
       "<style scoped>\n",
       "    .dataframe tbody tr th:only-of-type {\n",
       "        vertical-align: middle;\n",
       "    }\n",
       "\n",
       "    .dataframe tbody tr th {\n",
       "        vertical-align: top;\n",
       "    }\n",
       "\n",
       "    .dataframe thead th {\n",
       "        text-align: right;\n",
       "    }\n",
       "</style>\n",
       "<table border=\"1\" class=\"dataframe\">\n",
       "  <thead>\n",
       "    <tr style=\"text-align: right;\">\n",
       "      <th></th>\n",
       "      <th>dc_voltage</th>\n",
       "      <th>kWh_gross</th>\n",
       "      <th>kWh_net</th>\n",
       "      <th>module_temp</th>\n",
       "      <th>poa_irradiance</th>\n",
       "    </tr>\n",
       "  </thead>\n",
       "  <tbody>\n",
       "    <tr>\n",
       "      <th>0</th>\n",
       "      <td>13.666666</td>\n",
       "      <td>0.0</td>\n",
       "      <td>0.0</td>\n",
       "      <td>-15.797866</td>\n",
       "      <td>8.173266</td>\n",
       "    </tr>\n",
       "    <tr>\n",
       "      <th>1</th>\n",
       "      <td>12.600000</td>\n",
       "      <td>0.0</td>\n",
       "      <td>0.0</td>\n",
       "      <td>-16.058266</td>\n",
       "      <td>8.153266</td>\n",
       "    </tr>\n",
       "    <tr>\n",
       "      <th>2</th>\n",
       "      <td>12.200000</td>\n",
       "      <td>0.0</td>\n",
       "      <td>-1.0</td>\n",
       "      <td>-16.107266</td>\n",
       "      <td>8.300866</td>\n",
       "    </tr>\n",
       "    <tr>\n",
       "      <th>3</th>\n",
       "      <td>12.733333</td>\n",
       "      <td>0.0</td>\n",
       "      <td>0.0</td>\n",
       "      <td>-16.040200</td>\n",
       "      <td>7.105666</td>\n",
       "    </tr>\n",
       "    <tr>\n",
       "      <th>4</th>\n",
       "      <td>12.333333</td>\n",
       "      <td>0.0</td>\n",
       "      <td>0.0</td>\n",
       "      <td>-16.393733</td>\n",
       "      <td>7.980400</td>\n",
       "    </tr>\n",
       "  </tbody>\n",
       "</table>\n",
       "</div>"
      ],
      "text/plain": [
       "   dc_voltage  kWh_gross  kWh_net  module_temp  poa_irradiance\n",
       "0   13.666666        0.0      0.0   -15.797866        8.173266\n",
       "1   12.600000        0.0      0.0   -16.058266        8.153266\n",
       "2   12.200000        0.0     -1.0   -16.107266        8.300866\n",
       "3   12.733333        0.0      0.0   -16.040200        7.105666\n",
       "4   12.333333        0.0      0.0   -16.393733        7.980400"
      ]
     },
     "execution_count": 33,
     "metadata": {},
     "output_type": "execute_result"
    }
   ],
   "source": [
    "print(str(df.columns))\n",
    "df[['dc_voltage', 'kWh_gross', 'kWh_net',\n",
    "       'module_temp', 'poa_irradiance']].head()"
   ]
  },
  {
   "cell_type": "markdown",
   "metadata": {},
   "source": [
    "### Conclusions\n",
    "* Data that is missing azimuth can still have POA irradiance\n",
    "   * (Does this mean we can do POA, sun position, lat/long to figure out the azimuth?)\n",
    "   * Answer: Yes, but POA is not always given, see docs example from Rdtools\n",
    "* Are there two separate problems here: when POA irradiance IS provided and when it is NOT?\n",
    "   * Answer: Because \n",
    "\n",
    "### Questions\n",
    "* How is POA irradiance tracked? How is it tracked?\n",
    "* If we have GHI irradiance and POA irradiance, can we calculate azimuth?"
   ]
  }
 ],
 "metadata": {
  "kernelspec": {
   "display_name": "Python 2",
   "language": "python",
   "name": "python2"
  },
  "language_info": {
   "codemirror_mode": {
    "name": "ipython",
    "version": 2
   },
   "file_extension": ".py",
   "mimetype": "text/x-python",
   "name": "python",
   "nbconvert_exporter": "python",
   "pygments_lexer": "ipython2",
   "version": "2.7.14"
  }
 },
 "nbformat": 4,
 "nbformat_minor": 2
}
